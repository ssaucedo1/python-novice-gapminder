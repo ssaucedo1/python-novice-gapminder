{
  "cells": [
    {
      "cell_type": "code",
      "source": [],
      "metadata": {
        "id": "ullpVIqLLAyc"
      },
      "execution_count": null,
      "outputs": []
    }
  ],
  "metadata": {
    "colab": {
      "provenance": []
    }
  },
  "nbformat": 4,
  "nbformat_minor": 0
}